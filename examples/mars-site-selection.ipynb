{
 "cells": [
  {
   "cell_type": "markdown",
   "metadata": {},
   "source": [
    "#### Download Mars Elevation Model (11GB)"
   ]
  },
  {
   "cell_type": "code",
   "execution_count": 1,
   "metadata": {},
   "outputs": [
    {
     "name": "stdout",
     "output_type": "stream",
     "text": [
      "--2020-11-28 13:15:20--  http://wget/\n",
      "Resolving wget (wget)... failed: nodename nor servname provided, or not known.\n",
      "wget: unable to resolve host address ‘wget’\n",
      "--2020-11-28 13:15:20--  https://planetarymaps.usgs.gov/mosaic/Mars/HRSC_MOLA_Blend/Mars_HRSC_MOLA_BlendDEM_Global_200mp_v2.tif\n",
      "Resolving planetarymaps.usgs.gov (planetarymaps.usgs.gov)... 66.85.141.154\n",
      "Connecting to planetarymaps.usgs.gov (planetarymaps.usgs.gov)|66.85.141.154|:443... connected.\n",
      "HTTP request sent, awaiting response... 200 OK\n",
      "Length: 11384463908 (11G) [image/tiff]\n",
      "Saving to: ‘Mars_HRSC_MOLA_BlendDEM_Global_200mp_v2.tif’\n",
      "\n",
      "Mars_HRSC_MOLA_Blen 100%[===================>]  10.60G  15.5MB/s    in 11m 23s \n",
      "\n",
      "2020-11-28 13:26:43 (15.9 MB/s) - ‘Mars_HRSC_MOLA_BlendDEM_Global_200mp_v2.tif’ saved [11384463908/11384463908]\n",
      "\n",
      "FINISHED --2020-11-28 13:26:43--\n",
      "Total wall clock time: 11m 23s\n",
      "Downloaded: 1 files, 11G in 11m 23s (15.9 MB/s)\n"
     ]
    }
   ],
   "source": [
    "!wget -nc https://planetarymaps.usgs.gov/mosaic/Mars/HRSC_MOLA_Blend/Mars_HRSC_MOLA_BlendDEM_Global_200mp_v2.tif"
   ]
  },
  {
   "cell_type": "markdown",
   "metadata": {},
   "source": [
    "Use DeepMoon model to find craters?\n",
    "\n",
    "https://github.com/silburt/DeepMoon"
   ]
  },
  {
   "cell_type": "code",
   "execution_count": null,
   "metadata": {},
   "outputs": [],
   "source": []
  }
 ],
 "metadata": {
  "kernelspec": {
   "display_name": "Python 3",
   "language": "python",
   "name": "python3"
  },
  "language_info": {
   "codemirror_mode": {
    "name": "ipython",
    "version": 3
   },
   "file_extension": ".py",
   "mimetype": "text/x-python",
   "name": "python",
   "nbconvert_exporter": "python",
   "pygments_lexer": "ipython3",
   "version": "3.8.3"
  }
 },
 "nbformat": 4,
 "nbformat_minor": 4
}
